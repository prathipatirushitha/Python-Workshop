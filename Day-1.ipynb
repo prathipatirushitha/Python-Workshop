{
 "cells": [
  {
   "cell_type": "code",
   "execution_count": null,
   "metadata": {},
   "outputs": [],
   "source": [
    "a=4\n",
    "b=8\n",
    "a-b"
   ]
  },
  {
   "cell_type": "code",
   "execution_count": null,
   "metadata": {},
   "outputs": [],
   "source": [
    "#Bullet Points"
   ]
  },
  {
   "cell_type": "markdown",
   "metadata": {},
   "source": [
    "<img src=\"blank-profile.jpg\">"
   ]
  },
  {
   "cell_type": "markdown",
   "metadata": {},
   "source": [
    "<img src=\"blank-profile.jpg\">\n"
   ]
  },
  {
   "cell_type": "markdown",
   "metadata": {},
   "source": [
    "<img src=\"blank-profile.jpg\" Height=50pix Width=50pix>"
   ]
  },
  {
   "cell_type": "markdown",
   "metadata": {},
   "source": [
    "<img src=\"blank-profile.jpg\" Height=1pix Width=1pix>"
   ]
  },
  {
   "cell_type": "markdown",
   "metadata": {},
   "source": [
    "<img src=\"https://clothesforkids.org/wp-content/uploads/2020/06/blank-profile.jpg\">"
   ]
  },
  {
   "cell_type": "markdown",
   "metadata": {},
   "source": [
    "# Link\n",
    "[PaceCollege](https://www.google.com/search?ei=sF4FYJveO466rQGsspO4CQ&q=pace.ac.in&gs_ssp=eJzj4tVP1zc0TKlKKYs3MTU1YPTiKkhMTtVLTNbLzAMAbesICQ&oq=pace.ac.in&gs_lcp=CgZwc3ktYWIQARgAMggILhDJAxCTAjICCCY6BggAEAgQHlCwmwVYsJsFYKCoBWgAcAB4AIABiwGIAZYCkgEDMC4ymAEAoAEBqgEHZ3dzLXdpesABAQ&sclient=psy-ab)\n"
   ]
  },
  {
   "cell_type": "markdown",
   "metadata": {},
   "source": [
    "# Python Programming\n",
    "\n",
    "# Introduction to Python\n",
    "\n",
    "# History of Python\n",
    "\n",
    "# Features of Python\n",
    "\n",
    "# Keywords or Reservedwords in Python\n",
    "\n",
    "# Operators in Python"
   ]
  },
  {
   "cell_type": "markdown",
   "metadata": {},
   "source": [
    "# Link\n",
    "[pacecollege]"
   ]
  },
  {
   "cell_type": "markdown",
   "metadata": {},
   "source": [
    "# Introduction to python\n",
    "\n",
    "#### In Python We have 5 different Keys\n",
    "   + HighLevel Language\n",
    "   + Object oriented Programming(oops)\n",
    "   + Interpreter\n",
    "   + Dynamic Programming\n",
    "   + Multilevel Programming\n",
    "   \n",
    "# History of Python\n",
    "\n",
    "\n",
    "## monty `Python`fly circus\n",
    "+ In 1989 started Implementation of Python\n",
    "+ In 1991 Implemented 0.9 version\n",
    "+ In 1994 Implemented 1.0 version with features of lambda,map,filter,reduce\n",
    "+ In 2000 Implemented 2.0 version with features of datastructures Like List,Tuple,Dictionary,Sets..etc\n",
    "+ In 2008 Republised 3.0 version with features large no of libraries,garbagecollecton And Fastworking\n",
    "\n",
    "# Features of Python\n",
    "+ Easy to Learn & Easy to Write\n",
    "+ crossplatform\n",
    "+ Scalable\n",
    "+ Portable\n",
    "+ Scripting\n",
    "\n",
    "# Keywords or  Reservedwords in Python\n"
   ]
  },
  {
   "cell_type": "code",
   "execution_count": null,
   "metadata": {
    "scrolled": true
   },
   "outputs": [],
   "source": [
    "# Keywords or Reservedwords in Python\n",
    "import keyword\n",
    "\n",
    "dir(keyword)\n",
    "keyword.kwlist"
   ]
  },
  {
   "cell_type": "code",
   "execution_count": null,
   "metadata": {},
   "outputs": [],
   "source": [
    "help()"
   ]
  },
  {
   "cell_type": "markdown",
   "metadata": {},
   "source": [
    "# Operators\n",
    "\n",
    "+ Arithmetic Operator(+,-,*,/,**,//)\n",
    "+ Rational or Comparision Operator(>,<,<=,>=,==,!=)\n",
    "+ Assignment Operator(+=,-=,*=,/=,**=,//=)\n",
    "+ Logical Operator(and ,or, not)\n",
    "+ Bitwise Operator(&,|,^,>>,<<)\n",
    "+ Membership Operator(in, not in)\n",
    "+ Identity Operator(is, is not)"
   ]
  },
  {
   "cell_type": "code",
   "execution_count": null,
   "metadata": {
    "scrolled": true
   },
   "outputs": [],
   "source": [
    "a=10\n",
    "b=20\n",
    "print(a+b)\n",
    "print(a-b)\n",
    "print(a*b)\n",
    "print(a/b)\n",
    "print(a**b)\n",
    "print(a//b)"
   ]
  },
  {
   "cell_type": "code",
   "execution_count": null,
   "metadata": {
    "scrolled": true
   },
   "outputs": [],
   "source": [
    "# Relational Operators\n",
    "x=100\n",
    "y=90\n",
    "print(x>y)\n",
    "print(x<y)\n",
    "print(x==y)\n",
    "print(x!=y)"
   ]
  },
  {
   "cell_type": "code",
   "execution_count": null,
   "metadata": {},
   "outputs": [],
   "source": [
    "# Assignment Operators\n",
    "p=10\n",
    "p+=40\n",
    "p-=20\n",
    "p*=2\n",
    "p/=3\n",
    "p**=6\n",
    "p//=3\n",
    "print(p)"
   ]
  },
  {
   "cell_type": "code",
   "execution_count": null,
   "metadata": {
    "scrolled": true
   },
   "outputs": [],
   "source": [
    "#Logical Operator\n",
    "#and\n",
    "print(False and False)\n",
    "print(False and True)\n",
    "print(True and False)\n",
    "print(True and True)\n",
    "# or\n",
    "print()\n",
    "print(False or False)\n",
    "print(False or True)\n",
    "print(True or False)\n",
    "print(True or True)\n",
    "# not\n",
    "print()\n",
    "print(not(False and False))\n",
    "print(not(False and True))\n",
    "print(not(True and False))\n",
    "print(not(True and True))\n",
    "print()\n",
    "print(not(False or False))\n",
    "print(not(False or True))\n",
    "print(not(True or False))\n",
    "print(not(True or True))"
   ]
  },
  {
   "cell_type": "code",
   "execution_count": null,
   "metadata": {},
   "outputs": [],
   "source": [
    "print(10>5 and 20>8)\n",
    "\n",
    "print(100<101 and 99>50)\n",
    "print(50>55 and 45<100)\n",
    "print(5==5 and 5!=5)\n",
    "print(5==5 or 5!=5)\n",
    "print(not(10==10 and 50!=49))"
   ]
  },
  {
   "cell_type": "code",
   "execution_count": null,
   "metadata": {},
   "outputs": [],
   "source": [
    "# Bitwise Operator\n",
    "print(2&2)\n",
    "print(bin(2))\n",
    "print(bin(1000))\n",
    "print(int(\"10101\",2))\n",
    "print(10 |5)\n",
    "print(5^4)"
   ]
  },
  {
   "cell_type": "code",
   "execution_count": null,
   "metadata": {
    "scrolled": true
   },
   "outputs": [],
   "source": [
    "print(ord('a'))\n",
    "print(chr(97))"
   ]
  },
  {
   "cell_type": "code",
   "execution_count": null,
   "metadata": {},
   "outputs": [],
   "source": [
    "#Membership Operator\n",
    "a=\"Welcome to Python Workshop\"\n",
    "print(\"to\" in a)\n",
    "print(\"hello\" not in a)"
   ]
  },
  {
   "cell_type": "code",
   "execution_count": null,
   "metadata": {},
   "outputs": [],
   "source": [
    "a=[1,2,2,3,4,5,6,1,2,3,4]\n",
    "b=[]"
   ]
  },
  {
   "cell_type": "code",
   "execution_count": null,
   "metadata": {},
   "outputs": [],
   "source": [
    "#Identity Operators\n",
    "x=100\n",
    "y=100\n",
    "print(x is y)\n",
    "print(x is not y)"
   ]
  },
  {
   "cell_type": "code",
   "execution_count": null,
   "metadata": {},
   "outputs": [],
   "source": [
    "def add():\n",
    "    pass"
   ]
  },
  {
   "cell_type": "code",
   "execution_count": null,
   "metadata": {},
   "outputs": [],
   "source": [
    "a=b=c=10\n",
    "print(a)\n",
    "print(b)\n",
    "print(c)"
   ]
  },
  {
   "cell_type": "code",
   "execution_count": null,
   "metadata": {},
   "outputs": [],
   "source": [
    "a,b,c=10,20,30\n",
    "print(a)\n",
    "print(b)\n",
    "print(c)"
   ]
  },
  {
   "cell_type": "code",
   "execution_count": null,
   "metadata": {},
   "outputs": [],
   "source": [
    "for var in range(10) In python\n",
    "{% for i in range(10) %} in html"
   ]
  },
  {
   "cell_type": "markdown",
   "metadata": {},
   "source": [
    "<img src=\"blank-profile.jpg\" Height=1pix Width=1pix>"
   ]
  },
  {
   "cell_type": "code",
   "execution_count": null,
   "metadata": {},
   "outputs": [],
   "source": [
    "Comparing versions\n",
    "Firstversion and second version print statement is\n",
    "\n",
    "print a+b\n",
    "by using input method\n",
    "\n",
    "raw_input()\n",
    "in 3rd version\n",
    "print(a+b)\n",
    "input()"
   ]
  },
  {
   "cell_type": "code",
   "execution_count": null,
   "metadata": {},
   "outputs": [],
   "source": [
    "a=\"hello\"\n",
    "type(a)"
   ]
  },
  {
   "cell_type": "code",
   "execution_count": null,
   "metadata": {},
   "outputs": [],
   "source": [
    "b=10\n",
    "type(b)"
   ]
  },
  {
   "cell_type": "code",
   "execution_count": null,
   "metadata": {},
   "outputs": [],
   "source": [
    "a='10'\n",
    "a=float(a)\n",
    "type(a)"
   ]
  },
  {
   "cell_type": "code",
   "execution_count": null,
   "metadata": {},
   "outputs": [],
   "source": [
    "# static variable\n",
    "# addition of two numbers is 110\n",
    "# Addition of 10+100=110  1. Commaseparation,Formatmethod,\n",
    "a=10\n",
    "b=100\n",
    "print(\"Addition of two numbers is\",a+b)"
   ]
  },
  {
   "cell_type": "code",
   "execution_count": null,
   "metadata": {},
   "outputs": [],
   "source": [
    "a=10\n",
    "b=100\n",
    "print(\"Addition of two numbers is\",a+b)\n",
    "\n",
    "print(\"Addition of\",a,'+',b,'=',a+b)\n",
    "\n",
    "print('Addition of %d + %d = %d'%(a,b,a+b))\n",
    "print('Sub of %d - %d = %d'%(a,b,a-b))\n",
    "\n",
    "print('Mul of {0} * {1} = {2}'.format(a,b,a*b))"
   ]
  },
  {
   "cell_type": "code",
   "execution_count": 11,
   "metadata": {
    "scrolled": true
   },
   "outputs": [
    {
     "name": "stdout",
     "output_type": "stream",
     "text": [
      "Enter the x value:-6\n",
      "Enter the y value:-8\n",
      "Addition of 6 + 8 = 14\n"
     ]
    }
   ],
   "source": [
    "# Dynamic variable\n",
    "x=int(input(\"Enter the x value:-\"))\n",
    "y=int(input(\"Enter the y value:-\"))\n",
    "print('Addition of %d + %d = %d'%(x,y,x+y))"
   ]
  },
  {
   "cell_type": "markdown",
   "metadata": {},
   "source": [
    "# Expressions\n",
    "\n",
    "1. Take 5 inputs from user\n",
    "2. to perform operation\n",
    "3. store result in variable\n",
    "5. print that final result"
   ]
  },
  {
   "cell_type": "code",
   "execution_count": 1,
   "metadata": {},
   "outputs": [
    {
     "name": "stdout",
     "output_type": "stream",
     "text": [
      "Enter a value:3\n",
      "Enter b value:4\n",
      "Enter c value:5\n",
      "Enter d value:6\n",
      "Enter f value:7\n",
      "2.7142857142857144\n"
     ]
    }
   ],
   "source": [
    "# Expression\n",
    "a=int(input(\"Enter a value:\"))\n",
    "b=int(input(\"Enter b value:\"))\n",
    "c=int(input(\"Enter c value:\"))\n",
    "d=int(input(\"Enter d value:\"))\n",
    "f=int(input(\"Enter f value:\"))\n",
    "g=a+b-c*d/f\n",
    "print(g)"
   ]
  },
  {
   "cell_type": "code",
   "execution_count": 2,
   "metadata": {},
   "outputs": [
    {
     "name": "stdout",
     "output_type": "stream",
     "text": [
      "Enter a value:1000\n",
      "Enter b value:1\n",
      "Enter c value:1\n",
      "Enter d value:1\n",
      "Enter f value:1\n",
      "1000.0\n"
     ]
    }
   ],
   "source": [
    "# Expression\n",
    "a=int(input(\"Enter a value:\"))\n",
    "b=int(input(\"Enter b value:\"))\n",
    "c=int(input(\"Enter c value:\"))\n",
    "d=int(input(\"Enter d value:\"))\n",
    "f=int(input(\"Enter f value:\"))\n",
    "g=a+b-c*d/f\n",
    "print(g)"
   ]
  },
  {
   "cell_type": "code",
   "execution_count": null,
   "metadata": {},
   "outputs": [],
   "source": [
    "# Comments in python\n",
    "1. Single line comment\n",
    "# welcome to python\n",
    "# welcome to python\n",
    "# welcome to python\n",
    "# welcome to python\n",
    "2. Multi line comments\n",
    "'''\n",
    "welcome to python\n",
    "welcome to python\n",
    "welcome to python\n",
    "welcome to python\n",
    "'''\n",
    "    or\n",
    "\"\"\"\n",
    "welcome to python\n",
    "welcome to python\n",
    "welcome to python\n",
    "welcome to python\n",
    "\"\"\""
   ]
  },
  {
   "cell_type": "markdown",
   "metadata": {},
   "source": [
    "# Conditional statements in python\n",
    "+ if\n",
    "+ elif\n",
    "+ else\n",
    "## Syntax\n",
    "if condition:\n",
    "    statements\n",
    "elif condition:\n",
    "    statements\n",
    "else :\n",
    "    statements"
   ]
  },
  {
   "cell_type": "code",
   "execution_count": 7,
   "metadata": {},
   "outputs": [
    {
     "name": "stdout",
     "output_type": "stream",
     "text": [
      "Enter the x value60\n",
      "60 is even number\n"
     ]
    }
   ],
   "source": [
    "x=int(input(\"Enter the x value\"))\n",
    "if(x%2==0):\n",
    "    print(x,\"is even number\")\n",
    "else:\n",
    "    print(x,\"is odd number\")"
   ]
  },
  {
   "cell_type": "code",
   "execution_count": 8,
   "metadata": {},
   "outputs": [
    {
     "name": "stdout",
     "output_type": "stream",
     "text": [
      "Enter the x value65\n",
      "65 is odd number\n"
     ]
    }
   ],
   "source": [
    "x=int(input(\"Enter the x value\"))\n",
    "if(x%2!=0):\n",
    "    print(x,\"is odd number\")\n",
    "else:\n",
    "    print(x,\"is even number\")"
   ]
  },
  {
   "cell_type": "code",
   "execution_count": 9,
   "metadata": {},
   "outputs": [
    {
     "name": "stdout",
     "output_type": "stream",
     "text": [
      "Enter the x value70\n",
      "70 is even number\n"
     ]
    }
   ],
   "source": [
    "x=int(input(\"Enter the x value\"))\n",
    "if(x%2==1):\n",
    "    print(x,\"is odd number\")\n",
    "else:\n",
    "    print(x,\"is even number\")"
   ]
  },
  {
   "cell_type": "markdown",
   "metadata": {},
   "source": [
    "# Typecasting"
   ]
  },
  {
   "cell_type": "code",
   "execution_count": 17,
   "metadata": {},
   "outputs": [
    {
     "data": {
      "text/plain": [
       "1"
      ]
     },
     "execution_count": 17,
     "metadata": {},
     "output_type": "execute_result"
    }
   ],
   "source": [
    "s='1.5'\n",
    "d=float(s)\n",
    "int(d)"
   ]
  },
  {
   "cell_type": "code",
   "execution_count": 1,
   "metadata": {},
   "outputs": [
    {
     "name": "stdout",
     "output_type": "stream",
     "text": [
      "Enter usernameLohitha\n",
      "Enter passwordpace\n",
      "Welcome current username\n"
     ]
    }
   ],
   "source": [
    "username=str(input(\"Enter username\"))\n",
    "password=str(input(\"Enter password\"))\n",
    "if(username=='Lohitha' and password=='pace'):\n",
    "    print(\"Welcome current username\")\n",
    "else:\n",
    "    print(\"Invalid username/password\")"
   ]
  },
  {
   "cell_type": "code",
   "execution_count": 1,
   "metadata": {},
   "outputs": [
    {
     "name": "stdout",
     "output_type": "stream",
     "text": [
      "Enter any valueabdc\n",
      "abdc is an Alphabet\n"
     ]
    }
   ],
   "source": [
    "val=input(\"Enter any value\")\n",
    "if((val>='a' and val<='z')or(val>='A' and val<='Z')):\n",
    "    print(val,\"is an Alphabet\")\n",
    "elif(val>=0 and val<=9):\n",
    "    print(val,\"is a digit\")\n",
    "else:\n",
    "    print(val,\"is a special symbol\")"
   ]
  },
  {
   "cell_type": "code",
   "execution_count": 5,
   "metadata": {},
   "outputs": [
    {
     "name": "stdout",
     "output_type": "stream",
     "text": [
      "Enter a number:4\n",
      "Thursday\n"
     ]
    }
   ],
   "source": [
    "n=int(input(\"Enter a number:\"))\n",
    "if(n==0):\n",
    "    print(\"Sunday\")\n",
    "elif(n==1):\n",
    "    print(\"Monday\")\n",
    "elif(n==2):\n",
    "    print(\"Tuesday\")\n",
    "elif(n==3):\n",
    "    print(\"Wednesday\")\n",
    "elif(n==4):\n",
    "    print(\"Thursday\")\n",
    "elif(n==5):\n",
    "    print(\"Friday\")\n",
    "elif(n==6):\n",
    "    print(\"Saturday\")\n",
    "else:\n",
    "    print(\"Invalidday\")"
   ]
  },
  {
   "cell_type": "code",
   "execution_count": null,
   "metadata": {},
   "outputs": [],
   "source": []
  }
 ],
 "metadata": {
  "kernelspec": {
   "display_name": "Python 3",
   "language": "python",
   "name": "python3"
  },
  "language_info": {
   "codemirror_mode": {
    "name": "ipython",
    "version": 3
   },
   "file_extension": ".py",
   "mimetype": "text/x-python",
   "name": "python",
   "nbconvert_exporter": "python",
   "pygments_lexer": "ipython3",
   "version": "3.8.5"
  }
 },
 "nbformat": 4,
 "nbformat_minor": 4
}
